{
 "cells": [
  {
   "cell_type": "code",
   "execution_count": 188,
   "metadata": {},
   "outputs": [],
   "source": [
    "from selenium import webdriver\n",
    "from selenium.webdriver.common.by import By\n",
    "from selenium.webdriver.support.ui import WebDriverWait\n",
    "from selenium.webdriver.support import expected_conditions as EC\n",
    "import time\n",
    "import re\n",
    "from selenium.webdriver.common.keys import Keys\n",
    "import csv"
   ]
  },
  {
   "cell_type": "code",
   "execution_count": 189,
   "metadata": {},
   "outputs": [],
   "source": [
    "driver = webdriver.Chrome()"
   ]
  },
  {
   "cell_type": "code",
   "execution_count": 190,
   "metadata": {},
   "outputs": [],
   "source": [
    "driver.get(\"https://www.airbnb.com/s/experiences?refinement_paths%5B%5D=%2Fexperiences%2FKG%2FTag%3A87&search_type=section_navigation\")\n",
    "time.sleep(1)"
   ]
  },
  {
   "cell_type": "code",
   "execution_count": null,
   "metadata": {},
   "outputs": [],
   "source": [
    "# with open('prod_urls.txt', 'a+') as f:\n",
    "#    for url in prod_urls:\n",
    "#        f.write(\"https://www.airbnb.com%s\\n\" % url)"
   ]
  },
  {
   "cell_type": "code",
   "execution_count": 191,
   "metadata": {},
   "outputs": [],
   "source": [
    "for i in range(150):\n",
    "    driver.execute_script(\"window.scrollBy(0, %s)\" % (1000 * i))\n",
    "    time.sleep(1.5)"
   ]
  },
  {
   "cell_type": "code",
   "execution_count": 192,
   "metadata": {},
   "outputs": [],
   "source": [
    "prod_byclass = driver.find_elements_by_xpath('//div[@class=\"_f1jywl\"]') # Royce - first get the class then lower level tag and attribute"
   ]
  },
  {
   "cell_type": "code",
   "execution_count": 193,
   "metadata": {},
   "outputs": [],
   "source": [
    "urls = [prod.find_element_by_xpath('.//a').get_attribute('href') for prod in prod_byclass]"
   ]
  },
  {
   "cell_type": "code",
   "execution_count": 194,
   "metadata": {},
   "outputs": [],
   "source": [
    "with open('prod_urls.txt', 'w') as f:\n",
    "    for url in urls:\n",
    "        f.write(url +\"\\n\")"
   ]
  },
  {
   "cell_type": "code",
   "execution_count": null,
   "metadata": {},
   "outputs": [],
   "source": [
    "with open('prod_urls.txt') as h:\n",
    "    prod_links = h.readlines()\n",
    "    \n",
    "prod_links = [prod_link.rstrip('\\n') for prod_link in prod_links]"
   ]
  },
  {
   "cell_type": "code",
   "execution_count": null,
   "metadata": {},
   "outputs": [],
   "source": [
    "for prod_link in range(3):\n",
    "    driver.get(prod_link)\n",
    "    prod_dict = {}\n",
    "    \n",
    "    temp_dict_1 = {}\n",
    "    temp_dict_2 = {}\n",
    "    n= 0 \n",
    "    i= 0\n",
    "    \n",
    "    length_title = len(driver.find_elements_by_xpath('.//div[@class=\"_b9qfkc2\"]'))\n",
    "    for i in range(length_title):\n",
    "        temp_title = driver.find_elements_by_xpath('.//div[@class=\"_b9qfkc2\"]')[i].text\n",
    "        temp_title_text = driver.find_elements_by_xpath('.//div[@class=\"_foo5i5\"]')[i].text\n",
    "        temp_dict_1[temp_title] = temp_title_text\n",
    "        \n",
    "    length_Keepinmind = len(driver.find_elements_by_xpath('.//div[@class=\"_1p3joamp\"]'))\n",
    "    for n in range(length_Keepinmind):\n",
    "    Keepinmind_title = driver.find_elements_by_xpath('.//div[@class=\"_1p3joamp\"]')[i].text\n",
    "    Keepinmind_text = driver.find_elements_by_xpath('.//div[@class=\"_foo5i5\"]')[i].text\n",
    "    temp_dict_2[Keepinmind_title] = Keepinmind_text\n",
    "    \n",
    "    activity_type = driver.find_element_by_xpath('.//div[@class=\"_1xxanas2\"]').text\n",
    "    activity_name = driver.find_element_by_xpath('.//div[@class=\"_keicei4\"]').text\n",
    "    host_name = driver.find_elements_by_xpath('.//div[@class=\"_1p3joamp\"]')[0].text\n",
    "    host_intro = temp_dict[\"About your host\"]\n",
    "    \n",
    "    cancel_policy = temp_dict_2[\"Cancellation policy\"]\n",
    "    temp_age_NoPpl = temp_dict_2[\"Guest requirements\"]\n",
    "    age_NoPpl = re.findall('\\d+', temp_age_NoPpl)\n",
    "    No_Ppl = age_NoPpl[0]\n",
    "    min_age = age_NoPpl[1]\n",
    "    \n",
    "    price = ''\n",
    "    noRev = ''\n",
    "    rating =''\n",
    "    banner_elements = driver.find_element_by_xpath('//div[@class=\"_dmn8hc\"]').text.split('\\n')\n",
    "    for element in banner_elements\n",
    "        if len(element) == 14\n",
    "            price = element\n",
    "        elif len(element) == 11\n",
    "            noRev = element\n",
    "        elif len(element) == 4\n",
    "            rating = element\n",
    "    \n",
    "    location = ''\n",
    "    duration = ''\n",
    "    language = ''\n",
    "    includes = ''\n",
    "    top_elements = driver.find_elements_by_xpath('//div[@class=\"_11vbjbm\"]')\n",
    "    for element in top_elements:\n",
    "        txt = element.text.split('\\n')\n",
    "        label = txt[0]\n",
    "        value = txt[1]\n",
    "        if label == 'Location:':\n",
    "            location = value\n",
    "        elif label == 'Duration:':\n",
    "            duration = value.split(' ')[0]\n",
    "        elif label == 'Includes:':\n",
    "            includes = value\n",
    "        elif label == 'Languages:':\n",
    "            language = value\n",
    "\n",
    "    \n",
    "    prod_dict['activity_type'] = activity_type\n",
    "    prod_dict['activity_name'] = activity_name\n",
    "    prod_dict['location'] = location\n",
    "    prod_dict['duration'] = duration\n",
    "    prod_dict['includes'] = includes    \n",
    "    prod_dict['language'] = language\n",
    "    prod_dict['host_name'] = host_name\n",
    "    prod_dict['host_intro'] = host_intro\n",
    "    prod_dict['price'] = price\n",
    "    prod_dict['cancel_policy'] = cancel_policy\n",
    "    prod_dict['min_age'] = min_age\n",
    "    prod_dict['No_Ppl'] = No_Ppl\n",
    "    prod_dict['rating'] = rating\n",
    "    prod_dict['noRev'] = noRev\n",
    "    \n",
    "    \n",
    "writer.writerow(prod_dict.values())\n",
    "    "
   ]
  },
  {
   "cell_type": "code",
   "execution_count": null,
   "metadata": {},
   "outputs": [],
   "source": []
  },
  {
   "cell_type": "code",
   "execution_count": null,
   "metadata": {},
   "outputs": [],
   "source": [
    "# in each prod page, items to scape\n",
    "# xpath('.//div[@class=\"_1xxanas2\"]').text()  # activity_type  - bike ride\n",
    "# xpath('.//div[@class=\"_1yrl4d7p\"]').text()  # activity_name - Dawn visiting Ayune's river on bike\n",
    "# xpath('.//span[@class=\"_krjbj\"]'/span).text()  Location: #location - Culiacángo to map\n",
    "# xpath('.//span[@class=\"_krjbj\"]'/span).text()   Duration: # duration - 4 hrs\n",
    "# xpath('.//span[@class=\"_krjbj\"]'/span).text()   Includes: # include -food and equipment\n",
    "# xpath('.//span[@class=\"_krjbj\"]'/span).text()   Languages: # Language - English and Spanish\n",
    "# xpath('.//div[@class=\"_1p3joamp\"]').text()             #name of host - Luis Angel\n",
    "# xpath('.//div dir=\"ltr\"[@class=\"_h6avcp2\"]').text()    #host intro\n",
    "# xpath('.//div[@class=\"_czm8crp\"]').text()        #price: 11\n",
    "# xpath('.//div[@class=\"_1jlnvra2\"]').text()        #cancellation policy 24hrs\n",
    "# xpath('.//div dir=\"ltr\"[@class=\"_1jlnvra2\"]').text()        #min age: 18   group size 5\n",
    "# xpath('.//div[@class=\"_1n0ggc9u\"]').text()        #rating: 4.81  ___aria-label=\"Rating 4.81 out of 5\"\n",
    "# xpath('.//div[@class=\"_1plk0jz1\"]').text()        #no_Reviews: 83\n",
    "# xpath('.//div[@class=\"_1plk0jz1\"]').text()        #no_host_feedback: 83\n",
    "\n"
   ]
  },
  {
   "cell_type": "code",
   "execution_count": null,
   "metadata": {},
   "outputs": [],
   "source": [
    "driver.current_url"
   ]
  },
  {
   "cell_type": "code",
   "execution_count": null,
   "metadata": {},
   "outputs": [],
   "source": [
    "driver.get('https://www.airbnb.com/experiences/779380?currentTab=experience_tab&federatedSearchId=2cedfb5a-a25c-4b1c-b3db-24f64645ebfa&searchId=beb48c05-bf7f-49fa-a8b5-6d1ccc91db14&sectionId=662dbdd5-cc76-46d6-b810-141a6ab6316b&source=p2')"
   ]
  },
  {
   "cell_type": "code",
   "execution_count": null,
   "metadata": {},
   "outputs": [],
   "source": [
    "duration = driver.find_element_by_xpath('//*[@id=\"Section16\"]/div/div/div/section/div/div[2]/section/div[3]/div/div[2]/div')"
   ]
  },
  {
   "cell_type": "code",
   "execution_count": null,
   "metadata": {},
   "outputs": [],
   "source": [
    "duration.text.split('\\n')[1]"
   ]
  },
  {
   "cell_type": "code",
   "execution_count": null,
   "metadata": {},
   "outputs": [],
   "source": [
    "location = driver.find_element_by_xpath('//*[@id=\"Section16\"]/div/div/div/section/div/div[2]/section/div[2]/div/div[2]/div')"
   ]
  },
  {
   "cell_type": "code",
   "execution_count": null,
   "metadata": {},
   "outputs": [],
   "source": [
    "location.text"
   ]
  },
  {
   "cell_type": "code",
   "execution_count": 143,
   "metadata": {},
   "outputs": [],
   "source": [
    "driver.get('https://www.airbnb.com/experiences/158642?currentTab=experience_tab&searchId=7ae0cac1-3c4a-422e-bbf2-2808751370df&sectionId=526e5fc1-b0a4-4af8-b349-3d5c8c201721&source=pdpother')"
   ]
  },
  {
   "cell_type": "code",
   "execution_count": 151,
   "metadata": {},
   "outputs": [
    {
     "data": {
      "text/plain": [
       "['$79 per person', '4.85', '213 reviews', 'See dates']"
      ]
     },
     "execution_count": 151,
     "metadata": {},
     "output_type": "execute_result"
    }
   ],
   "source": [
    "banner_elements = driver.find_element_by_xpath('//div[@class=\"_dmn8hc\"]').text.split('\\n')\n",
    "for element in banner_elements\n",
    "    if len(element) == 14\n",
    "        price = element\n",
    "    elif len(element) == 11\n",
    "        noRev = element\n",
    "    elif len(element) == 4\n",
    "        rating = element"
   ]
  },
  {
   "cell_type": "code",
   "execution_count": 159,
   "metadata": {},
   "outputs": [
    {
     "data": {
      "text/plain": [
       "9"
      ]
     },
     "execution_count": 159,
     "metadata": {},
     "output_type": "execute_result"
    }
   ],
   "source": [
    "len('See dates')"
   ]
  },
  {
   "cell_type": "code",
   "execution_count": 197,
   "metadata": {},
   "outputs": [],
   "source": [
    "driver.get('https://www.airbnb.com/experiences/845549?currentTab=experience_tab&federatedSearchId=72a8b12c-f579-45bd-98e7-965fd799bdab&searchId=d57d2626-698b-4581-9bbe-856b6c4553cd&sectionId=882b9cbd-daeb-49c2-84ae-47cba8eebf04&source=p2')"
   ]
  },
  {
   "cell_type": "code",
   "execution_count": 138,
   "metadata": {},
   "outputs": [
    {
     "data": {
      "text/plain": [
       "'$79 per person'"
      ]
     },
     "execution_count": 138,
     "metadata": {},
     "output_type": "execute_result"
    }
   ],
   "source": [
    "test11 = driver.find_element_by_xpath('.//div[@class=\"_dmn8hc\"]').text.split('\\n')[-2]\n",
    "test11"
   ]
  },
  {
   "cell_type": "code",
   "execution_count": 200,
   "metadata": {},
   "outputs": [
    {
     "data": {
      "text/plain": [
       "8"
      ]
     },
     "execution_count": 200,
     "metadata": {},
     "output_type": "execute_result"
    }
   ],
   "source": [
    "temp_dict_2 = {}\n",
    "n= 0\n",
    "\n",
    "length_Keepinmind = len(driver.find_elements_by_xpath('.//div[@class=\"_1p3joamp\"]'))\n",
    "length_Keepinmind"
   ]
  },
  {
   "cell_type": "code",
   "execution_count": 203,
   "metadata": {},
   "outputs": [],
   "source": [
    "for n in range(length_Keepinmind):\n",
    "    Keepinmind_title = driver.find_elements_by_xpath('.//div[@class=\"_1p3joamp\"]')[n].text\n",
    "    Keepinmind_text = driver.find_elements_by_xpath('.//div[@class=\"_foo5i5\"]')[n].text\n",
    "    temp_dict_2[Keepinmind_title] = Keepinmind_text"
   ]
  },
  {
   "cell_type": "code",
   "execution_count": null,
   "metadata": {},
   "outputs": [],
   "source": []
  },
  {
   "cell_type": "code",
   "execution_count": 185,
   "metadata": {},
   "outputs": [],
   "source": [
    "driver.get('https://www.airbnb.com/experiences/513872?currentTab=experience_tab&federatedSearchId=ea6b2764-cffe-4357-811e-9068c69e9571&searchId=a3be73a6-6950-4beb-a33e-4d13e3ed179c&sectionId=c962ee8f-6034-43a7-8b83-32770eb108cc&source=p2')"
   ]
  },
  {
   "cell_type": "code",
   "execution_count": 186,
   "metadata": {},
   "outputs": [
    {
     "data": {
      "text/plain": [
       "4"
      ]
     },
     "execution_count": 186,
     "metadata": {},
     "output_type": "execute_result"
    }
   ],
   "source": [
    "test2 = driver.find_elements_by_xpath('//div[@class=\"_11vbjbm\"]')\n",
    "len(test2)"
   ]
  },
  {
   "cell_type": "code",
   "execution_count": null,
   "metadata": {},
   "outputs": [],
   "source": [
    "location = ''\n",
    "duration = ''\n",
    "language = ''\n",
    "includes = ''\n",
    "top_elements = driver.find_elements_by_xpath('//div[@class=\"_11vbjbm\"]')\n",
    "for element in top_elements:\n",
    "    txt = element.text.split('\\n')\n",
    "    label = txt[0]\n",
    "    value = txt[1]\n",
    "    if label == 'Location:':\n",
    "        location = value\n",
    "    elif label == 'Duration:':\n",
    "        duration = value.split(' ')[0]\n",
    "    elif label == 'Includes:':\n",
    "        includes = value\n",
    "    elif label == 'Languages:':\n",
    "        language = value"
   ]
  },
  {
   "cell_type": "code",
   "execution_count": 51,
   "metadata": {},
   "outputs": [
    {
     "data": {
      "text/plain": [
       "'Aria'"
      ]
     },
     "execution_count": 51,
     "metadata": {},
     "output_type": "execute_result"
    }
   ],
   "source": [
    "test3 = driver.find_elements_by_xpath('.//div[@class=\"_1p3joamp\"]')[0].text\n",
    "test3"
   ]
  },
  {
   "cell_type": "code",
   "execution_count": 57,
   "metadata": {},
   "outputs": [],
   "source": [
    "    temp_dict = {}\n",
    "    i= 0\n",
    "    length_title = len(driver.find_elements_by_xpath('.//div[@class=\"_b9qfkc2\"]'))\n",
    "    for i in range(length_title):\n",
    "        temp_title = driver.find_elements_by_xpath('.//div[@class=\"_b9qfkc2\"]')[i].text\n",
    "        temp_title_text = driver.find_elements_by_xpath('.//div[@class=\"_foo5i5\"]')[i].text\n",
    "        temp_dict[temp_title] = temp_title_text"
   ]
  },
  {
   "cell_type": "code",
   "execution_count": 66,
   "metadata": {},
   "outputs": [
    {
     "data": {
      "text/plain": [
       "\"Hi! My name is Aria. I'm a professional photographer that has worked with everyone from Versace and Jay Z to the King of Spain. You can check out my website at www.ariasmithphotography.com. I was born & raised here in NY. Most Airbnb hosts aren't from here and us natives definitely have a lot more knowledge of the city! I recently moved back to NY after living in New Zealand and Australia for a…+ More\""
      ]
     },
     "execution_count": 66,
     "metadata": {},
     "output_type": "execute_result"
    }
   ],
   "source": [
    "temp_dict[\"About your host\"]"
   ]
  },
  {
   "cell_type": "code",
   "execution_count": null,
   "metadata": {},
   "outputs": [],
   "source": [
    "location = ''\n",
    "duration = ''\n",
    "language = ''\n",
    "includes = ''\n",
    "elements = driver.find_elements_by_xpath('//div[@class=\"_11vbjbm\"]')\n",
    "for element in elements:\n",
    "    txt = element.text.split('\\n')\n",
    "    label = txt[0]\n",
    "    value = txt[1]\n",
    "    if label == 'Location:':\n",
    "        location = value\n",
    "    elif label == 'Duration:':\n",
    "        duration = value.split(' ')[0]\n",
    "    elif label == 'Includes:':\n",
    "        includes = value\n",
    "    elif label == 'Languages:':\n",
    "        language = value"
   ]
  },
  {
   "cell_type": "code",
   "execution_count": null,
   "metadata": {},
   "outputs": [],
   "source": [
    "driver.find_elements_by_xpath('//div[@class=\"_jrswss\"]')[3].text"
   ]
  },
  {
   "cell_type": "code",
   "execution_count": null,
   "metadata": {},
   "outputs": [],
   "source": [
    "location, duration, language, includes"
   ]
  },
  {
   "cell_type": "code",
   "execution_count": null,
   "metadata": {},
   "outputs": [],
   "source": [
    "sections = driver.find_elements_by_xpath('//div[@class=\"_1rac2mq\"]')"
   ]
  },
  {
   "cell_type": "code",
   "execution_count": null,
   "metadata": {},
   "outputs": [],
   "source": []
  },
  {
   "cell_type": "code",
   "execution_count": null,
   "metadata": {},
   "outputs": [],
   "source": [
    "len(sections)"
   ]
  },
  {
   "cell_type": "code",
   "execution_count": null,
   "metadata": {},
   "outputs": [],
   "source": [
    "sec_id = driver.find_elements_by_id"
   ]
  }
 ],
 "metadata": {
  "kernelspec": {
   "display_name": "Python 3",
   "language": "python",
   "name": "python3"
  },
  "language_info": {
   "codemirror_mode": {
    "name": "ipython",
    "version": 3
   },
   "file_extension": ".py",
   "mimetype": "text/x-python",
   "name": "python",
   "nbconvert_exporter": "python",
   "pygments_lexer": "ipython3",
   "version": "3.7.3"
  }
 },
 "nbformat": 4,
 "nbformat_minor": 2
}
